{
  "nbformat": 4,
  "nbformat_minor": 0,
  "metadata": {
    "colab": {
      "name": "Shopify_dschallenge.ipynb",
      "provenance": [],
      "collapsed_sections": [],
      "mount_file_id": "1MxR7Z3liiyH2J2z8-jTH9K6PhuHL2Nd1",
      "authorship_tag": "ABX9TyNyF2RyqwFXbvpJI8x3xO+s",
      "include_colab_link": true
    },
    "kernelspec": {
      "name": "python3",
      "display_name": "Python 3"
    },
    "language_info": {
      "name": "python"
    }
  },
  "cells": [
    {
      "cell_type": "markdown",
      "metadata": {
        "id": "view-in-github",
        "colab_type": "text"
      },
      "source": [
        "<a href=\"https://colab.research.google.com/github/tiffanytang34/Shopify_DSchallenge/blob/main/Shopify_dschallenge.ipynb\" target=\"_parent\"><img src=\"https://colab.research.google.com/assets/colab-badge.svg\" alt=\"Open In Colab\"/></a>"
      ]
    },
    {
      "cell_type": "markdown",
      "source": [
        "## Shopify Data Science Challenge"
      ],
      "metadata": {
        "id": "3BdNcA09QPdV"
      }
    },
    {
      "cell_type": "markdown",
      "source": [
        "Leqi Tang (Tiffany) \\\n",
        "Apr 21, 2022"
      ],
      "metadata": {
        "id": "VqauQpl9y0uU"
      }
    },
    {
      "cell_type": "markdown",
      "source": [
        "## Question 1\n",
        "On Shopify, we have exactly 100 sneaker shops, and each of these shops sells only one model of shoe. We want to do some analysis of the average order value (AOV). When we look at orders data over a 30 day window, we naively calculate an AOV of $3145.13. Given that we know these shops are selling sneakers, a relatively affordable item, something seems wrong with our analysis. "
      ],
      "metadata": {
        "id": "AMx1obnsvmrr"
      }
    },
    {
      "cell_type": "code",
      "source": [
        "# Imports\n",
        "\n",
        "import numpy as np\n",
        "import pandas as pd\n",
        "import matplotlib.pyplot as plt"
      ],
      "metadata": {
        "id": "mXE9LnaGQVBz"
      },
      "execution_count": 1,
      "outputs": []
    },
    {
      "cell_type": "code",
      "source": [
        "# read the dataset\n",
        "\n",
        "data = pd.read_csv('/content/drive/My Drive/shopify_datachallenge/Shopify.csv') "
      ],
      "metadata": {
        "id": "M3UgP7GsQuEL"
      },
      "execution_count": 2,
      "outputs": []
    },
    {
      "cell_type": "code",
      "source": [
        "data.head()"
      ],
      "metadata": {
        "id": "8gmDq1NOQv9C",
        "colab": {
          "base_uri": "https://localhost:8080/",
          "height": 206
        },
        "outputId": "d7e5c9ec-0594-48a2-fab0-f9f58d550cf4"
      },
      "execution_count": 3,
      "outputs": [
        {
          "output_type": "execute_result",
          "data": {
            "text/plain": [
              "   order_id  shop_id  user_id  order_amount  total_items payment_method  \\\n",
              "0         1       53      746           224            2           cash   \n",
              "1         2       92      925            90            1           cash   \n",
              "2         3       44      861           144            1           cash   \n",
              "3         4       18      935           156            1    credit_card   \n",
              "4         5       18      883           156            1    credit_card   \n",
              "\n",
              "            created_at  \n",
              "0  2017-03-13 12:36:56  \n",
              "1  2017-03-03 17:38:52  \n",
              "2   2017-03-14 4:23:56  \n",
              "3  2017-03-26 12:43:37  \n",
              "4   2017-03-01 4:35:11  "
            ],
            "text/html": [
              "\n",
              "  <div id=\"df-9acee2f2-41de-4964-8a5f-6eeeffeafa2b\">\n",
              "    <div class=\"colab-df-container\">\n",
              "      <div>\n",
              "<style scoped>\n",
              "    .dataframe tbody tr th:only-of-type {\n",
              "        vertical-align: middle;\n",
              "    }\n",
              "\n",
              "    .dataframe tbody tr th {\n",
              "        vertical-align: top;\n",
              "    }\n",
              "\n",
              "    .dataframe thead th {\n",
              "        text-align: right;\n",
              "    }\n",
              "</style>\n",
              "<table border=\"1\" class=\"dataframe\">\n",
              "  <thead>\n",
              "    <tr style=\"text-align: right;\">\n",
              "      <th></th>\n",
              "      <th>order_id</th>\n",
              "      <th>shop_id</th>\n",
              "      <th>user_id</th>\n",
              "      <th>order_amount</th>\n",
              "      <th>total_items</th>\n",
              "      <th>payment_method</th>\n",
              "      <th>created_at</th>\n",
              "    </tr>\n",
              "  </thead>\n",
              "  <tbody>\n",
              "    <tr>\n",
              "      <th>0</th>\n",
              "      <td>1</td>\n",
              "      <td>53</td>\n",
              "      <td>746</td>\n",
              "      <td>224</td>\n",
              "      <td>2</td>\n",
              "      <td>cash</td>\n",
              "      <td>2017-03-13 12:36:56</td>\n",
              "    </tr>\n",
              "    <tr>\n",
              "      <th>1</th>\n",
              "      <td>2</td>\n",
              "      <td>92</td>\n",
              "      <td>925</td>\n",
              "      <td>90</td>\n",
              "      <td>1</td>\n",
              "      <td>cash</td>\n",
              "      <td>2017-03-03 17:38:52</td>\n",
              "    </tr>\n",
              "    <tr>\n",
              "      <th>2</th>\n",
              "      <td>3</td>\n",
              "      <td>44</td>\n",
              "      <td>861</td>\n",
              "      <td>144</td>\n",
              "      <td>1</td>\n",
              "      <td>cash</td>\n",
              "      <td>2017-03-14 4:23:56</td>\n",
              "    </tr>\n",
              "    <tr>\n",
              "      <th>3</th>\n",
              "      <td>4</td>\n",
              "      <td>18</td>\n",
              "      <td>935</td>\n",
              "      <td>156</td>\n",
              "      <td>1</td>\n",
              "      <td>credit_card</td>\n",
              "      <td>2017-03-26 12:43:37</td>\n",
              "    </tr>\n",
              "    <tr>\n",
              "      <th>4</th>\n",
              "      <td>5</td>\n",
              "      <td>18</td>\n",
              "      <td>883</td>\n",
              "      <td>156</td>\n",
              "      <td>1</td>\n",
              "      <td>credit_card</td>\n",
              "      <td>2017-03-01 4:35:11</td>\n",
              "    </tr>\n",
              "  </tbody>\n",
              "</table>\n",
              "</div>\n",
              "      <button class=\"colab-df-convert\" onclick=\"convertToInteractive('df-9acee2f2-41de-4964-8a5f-6eeeffeafa2b')\"\n",
              "              title=\"Convert this dataframe to an interactive table.\"\n",
              "              style=\"display:none;\">\n",
              "        \n",
              "  <svg xmlns=\"http://www.w3.org/2000/svg\" height=\"24px\"viewBox=\"0 0 24 24\"\n",
              "       width=\"24px\">\n",
              "    <path d=\"M0 0h24v24H0V0z\" fill=\"none\"/>\n",
              "    <path d=\"M18.56 5.44l.94 2.06.94-2.06 2.06-.94-2.06-.94-.94-2.06-.94 2.06-2.06.94zm-11 1L8.5 8.5l.94-2.06 2.06-.94-2.06-.94L8.5 2.5l-.94 2.06-2.06.94zm10 10l.94 2.06.94-2.06 2.06-.94-2.06-.94-.94-2.06-.94 2.06-2.06.94z\"/><path d=\"M17.41 7.96l-1.37-1.37c-.4-.4-.92-.59-1.43-.59-.52 0-1.04.2-1.43.59L10.3 9.45l-7.72 7.72c-.78.78-.78 2.05 0 2.83L4 21.41c.39.39.9.59 1.41.59.51 0 1.02-.2 1.41-.59l7.78-7.78 2.81-2.81c.8-.78.8-2.07 0-2.86zM5.41 20L4 18.59l7.72-7.72 1.47 1.35L5.41 20z\"/>\n",
              "  </svg>\n",
              "      </button>\n",
              "      \n",
              "  <style>\n",
              "    .colab-df-container {\n",
              "      display:flex;\n",
              "      flex-wrap:wrap;\n",
              "      gap: 12px;\n",
              "    }\n",
              "\n",
              "    .colab-df-convert {\n",
              "      background-color: #E8F0FE;\n",
              "      border: none;\n",
              "      border-radius: 50%;\n",
              "      cursor: pointer;\n",
              "      display: none;\n",
              "      fill: #1967D2;\n",
              "      height: 32px;\n",
              "      padding: 0 0 0 0;\n",
              "      width: 32px;\n",
              "    }\n",
              "\n",
              "    .colab-df-convert:hover {\n",
              "      background-color: #E2EBFA;\n",
              "      box-shadow: 0px 1px 2px rgba(60, 64, 67, 0.3), 0px 1px 3px 1px rgba(60, 64, 67, 0.15);\n",
              "      fill: #174EA6;\n",
              "    }\n",
              "\n",
              "    [theme=dark] .colab-df-convert {\n",
              "      background-color: #3B4455;\n",
              "      fill: #D2E3FC;\n",
              "    }\n",
              "\n",
              "    [theme=dark] .colab-df-convert:hover {\n",
              "      background-color: #434B5C;\n",
              "      box-shadow: 0px 1px 3px 1px rgba(0, 0, 0, 0.15);\n",
              "      filter: drop-shadow(0px 1px 2px rgba(0, 0, 0, 0.3));\n",
              "      fill: #FFFFFF;\n",
              "    }\n",
              "  </style>\n",
              "\n",
              "      <script>\n",
              "        const buttonEl =\n",
              "          document.querySelector('#df-9acee2f2-41de-4964-8a5f-6eeeffeafa2b button.colab-df-convert');\n",
              "        buttonEl.style.display =\n",
              "          google.colab.kernel.accessAllowed ? 'block' : 'none';\n",
              "\n",
              "        async function convertToInteractive(key) {\n",
              "          const element = document.querySelector('#df-9acee2f2-41de-4964-8a5f-6eeeffeafa2b');\n",
              "          const dataTable =\n",
              "            await google.colab.kernel.invokeFunction('convertToInteractive',\n",
              "                                                     [key], {});\n",
              "          if (!dataTable) return;\n",
              "\n",
              "          const docLinkHtml = 'Like what you see? Visit the ' +\n",
              "            '<a target=\"_blank\" href=https://colab.research.google.com/notebooks/data_table.ipynb>data table notebook</a>'\n",
              "            + ' to learn more about interactive tables.';\n",
              "          element.innerHTML = '';\n",
              "          dataTable['output_type'] = 'display_data';\n",
              "          await google.colab.output.renderOutput(dataTable, element);\n",
              "          const docLink = document.createElement('div');\n",
              "          docLink.innerHTML = docLinkHtml;\n",
              "          element.appendChild(docLink);\n",
              "        }\n",
              "      </script>\n",
              "    </div>\n",
              "  </div>\n",
              "  "
            ]
          },
          "metadata": {},
          "execution_count": 3
        }
      ]
    },
    {
      "cell_type": "code",
      "source": [
        "# description of the order amount\n",
        "data['order_amount'].describe()"
      ],
      "metadata": {
        "colab": {
          "base_uri": "https://localhost:8080/"
        },
        "id": "XawOf2ugdKNm",
        "outputId": "bca3ad61-f31e-4c22-bcd5-91255f2b9f1d"
      },
      "execution_count": 89,
      "outputs": [
        {
          "output_type": "execute_result",
          "data": {
            "text/plain": [
              "count      5000.000000\n",
              "mean       3145.128000\n",
              "std       41282.539349\n",
              "min          90.000000\n",
              "25%         163.000000\n",
              "50%         284.000000\n",
              "75%         390.000000\n",
              "max      704000.000000\n",
              "Name: order_amount, dtype: float64"
            ]
          },
          "metadata": {},
          "execution_count": 89
        }
      ]
    },
    {
      "cell_type": "code",
      "source": [
        "# average order value (AOV) calculated by Shopify. \n",
        "AOV = data['order_amount'].sum()/data['order_amount'].count()\n",
        "AOV"
      ],
      "metadata": {
        "colab": {
          "base_uri": "https://localhost:8080/"
        },
        "id": "Y9nps-9_PtOz",
        "outputId": "0199e43b-defe-4261-9c61-41fc619aa07a"
      },
      "execution_count": 91,
      "outputs": [
        {
          "output_type": "execute_result",
          "data": {
            "text/plain": [
              "3145.128"
            ]
          },
          "metadata": {},
          "execution_count": 91
        }
      ]
    },
    {
      "cell_type": "markdown",
      "source": [
        "### 1a: Think about what could be going wrong with our calculation. Think about a better way to evaluate this data. \n",
        "From above description of **order_amount** and calculation of average order value, we can see the amount 3145.13$ was obtained by taking the average of the order amount column. However, from the **max** and **std** of the **order_amount**, we note that the mean is largely influenced by the extreme max value: *704000* which have 17 orders. Thus we can see that the mean is not a good estimate of the AOV. "
      ],
      "metadata": {
        "id": "yV_Io823EhIw"
      }
    },
    {
      "cell_type": "code",
      "source": [
        "\n",
        "arr=plt.hist(data['order_amount'],bins=20)\n",
        "plt.xlabel('order amount')\n",
        "plt.ylabel('number of order')\n",
        "plt.title('histogram showing the number of orders for order amount')\n",
        "for i in range(20):\n",
        "  if (int(arr[0][i])!=0):\n",
        "      plt.text(arr[1][i],arr[0][i]+2,int(arr[0][i]))\n",
        "#plt.hist(data['order_amount'], bins = 100)\n",
        "plt.show()\n"
      ],
      "metadata": {
        "colab": {
          "base_uri": "https://localhost:8080/",
          "height": 295
        },
        "id": "_rjD_hekGhjp",
        "outputId": "30ae82d6-a1d8-42a7-8966-b20143bbd350"
      },
      "execution_count": 114,
      "outputs": [
        {
          "output_type": "display_data",
          "data": {
            "text/plain": [
              "<Figure size 432x288 with 1 Axes>"
            ],
            "image/png": "[encoded data removed]"
          },
          "metadata": {
            "needs_background": "light"
          }
        }
      ]
    },
    {
      "cell_type": "markdown",
      "source": [
        "### 1b: What metric would you report for this dataset?\n",
        "The **median** of the order amount would be better to evaluate the data. Because the median depends on the sorted order of data, the extreme outliers would not influence the median of the data."
      ],
      "metadata": {
        "id": "-UJF7mg5i2uK"
      }
    },
    {
      "cell_type": "markdown",
      "source": [
        "### 1c: What is its value?\n",
        "From the description of the **order amount**, we have **median** as 284$."
      ],
      "metadata": {
        "id": "XKxGuUzbj6i2"
      }
    },
    {
      "cell_type": "markdown",
      "source": [
        "## Question 2\n",
        "For this question you’ll need to use SQL. Follow this link to access the data set required for the challenge. Please use queries to answer the following questions. Paste your queries along with your final numerical answers below."
      ],
      "metadata": {
        "id": "Drw9Cc06vkhK"
      }
    },
    {
      "cell_type": "markdown",
      "source": [
        "### 2a: How many orders were shipped by Speedy Express in total?\n",
        " Answer: 54"
      ],
      "metadata": {
        "id": "EU6sis0evvQ5"
      }
    },
    {
      "cell_type": "code",
      "source": [
        "SELECT count(*) FROM Orders a JOIN Shippers b ON a.ShipperID = b.ShipperID\n",
        "WHERE b.ShipperName = \"Speedy Express\"\n"
      ],
      "metadata": {
        "id": "zQTum-OXvuMA"
      },
      "execution_count": null,
      "outputs": []
    },
    {
      "cell_type": "markdown",
      "source": [
        "### 2b: What is the last name of the employee with the most orders?\n",
        "Answer: Peacock"
      ],
      "metadata": {
        "id": "BZghTIbmv_ny"
      }
    },
    {
      "cell_type": "code",
      "source": [
        "SELECT a.LastName FROM Employees a JOIN Orders b on a.EmployeeID = b.EmployeeID \n",
        "GROUP BY a.EmployeeID\n",
        "ORDER BY count(*) DESC\n",
        "LIMIT 1"
      ],
      "metadata": {
        "id": "gwSuzuM7wF1r"
      },
      "execution_count": null,
      "outputs": []
    },
    {
      "cell_type": "markdown",
      "source": [
        "### 2c: What product was ordered the most by customers in Germany?\n",
        "Answer: Steeleye Stout"
      ],
      "metadata": {
        "id": "tDYJxSztwwcZ"
      }
    },
    {
      "cell_type": "code",
      "source": [
        "SELECT ProductName FROM Products a JOIN OrderDetails b ON b.ProductID = a.ProductID \n",
        "JOIN Orders c ON c.OrderID = b.OrderID\n",
        "JOIN Customers d ON d.CustomerID = c.CustomerID \n",
        "WHERE Country = \"Germany\"\n",
        "ORDER BY Quantity DESC\n",
        "LIMIT 1"
      ],
      "metadata": {
        "id": "Fn3dfcCrySXE"
      },
      "execution_count": null,
      "outputs": []
    }
  ]
}